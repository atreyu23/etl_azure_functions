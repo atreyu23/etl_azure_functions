{
 "cells": [
  {
   "cell_type": "code",
   "execution_count": 2,
   "metadata": {},
   "outputs": [],
   "source": [
    "import logging\n",
    "import azure.functions as func\n",
    "from azure.storage.blob import BlobServiceClient\n",
    "import os\n",
    "import pyarrow as pa\n",
    "import pyarrow.parquet as pq"
   ]
  },
  {
   "cell_type": "code",
   "execution_count": 4,
   "metadata": {},
   "outputs": [],
   "source": [
    "AzureWebJobsStorage = \"DefaultEndpointsProtocol=https;AccountName=pruebasetlazurefunctions;AccountKey=UvB/ZFp+VBcAEHws97yuqRtfefeSyuYZQU/S9k2CC11dEbdY7CExZAN7xru8T1c7hoCFEP7GZfnt+AStVG2aUQ==;EndpointSuffix=core.windows.net\""
   ]
  },
  {
   "cell_type": "code",
   "execution_count": null,
   "metadata": {},
   "outputs": [],
   "source": [
    "logging.info(\"Starting processing of files from the raw container.\")\n",
    "\n",
    "# Obtener la cadena de conexión desde las configuraciones de entorno\n",
    "connection_string = AzureWebJobsStorage\n",
    "blob_service_client = BlobServiceClient.from_connection_string(connection_string)\n",
    "\n",
    "# Nombre del contenedor de origen\n",
    "container_name = \"raw\"\n",
    "container_client = blob_service_client.get_container_client(container_name)\n",
    "blob_client = container_client.get_blob_client(file_info[\"file_name\"])\n",
    "\n",
    "# Descargar el contenido del blob\n",
    "file_data = blob_client.download_blob().readall()"
   ]
  },
  {
   "cell_type": "code",
   "execution_count": null,
   "metadata": {},
   "outputs": [],
   "source": []
  }
 ],
 "metadata": {
  "kernelspec": {
   "display_name": "etl_azure",
   "language": "python",
   "name": "python3"
  },
  "language_info": {
   "codemirror_mode": {
    "name": "ipython",
    "version": 3
   },
   "file_extension": ".py",
   "mimetype": "text/x-python",
   "name": "python",
   "nbconvert_exporter": "python",
   "pygments_lexer": "ipython3",
   "version": "3.11.10"
  }
 },
 "nbformat": 4,
 "nbformat_minor": 2
}
